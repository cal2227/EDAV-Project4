{
 "cells": [
  {
   "cell_type": "code",
   "execution_count": 1,
   "metadata": {
    "collapsed": true
   },
   "outputs": [],
   "source": [
    "from matplotlib import pyplot as plt\n",
    "import pandas as pd\n",
    "import seaborn as sb\n",
    "import numpy as np\n",
    "import nltk\n",
    "import utils"
   ]
  },
  {
   "cell_type": "code",
   "execution_count": 2,
   "metadata": {
    "collapsed": true
   },
   "outputs": [],
   "source": [
    "%matplotlib inline"
   ]
  },
  {
   "cell_type": "code",
   "execution_count": 50,
   "metadata": {
    "collapsed": true
   },
   "outputs": [],
   "source": [
    "stemmed_keywords = utils.get_stemmed_keywords()\n",
    "interested_columns = list(stemmed_keywords) + ['year', 'president', 'political_party']"
   ]
  },
  {
   "cell_type": "code",
   "execution_count": 103,
   "metadata": {
    "collapsed": false
   },
   "outputs": [],
   "source": [
    "df = pd.read_json(utils.suas_with_topic_frequencies)[interested_columns]"
   ]
  },
  {
   "cell_type": "code",
   "execution_count": 107,
   "metadata": {
    "collapsed": false
   },
   "outputs": [
    {
     "data": {
      "text/html": [
       "<div>\n",
       "<table border=\"1\" class=\"dataframe\">\n",
       "  <thead>\n",
       "    <tr style=\"text-align: right;\">\n",
       "      <th></th>\n",
       "      <th>social</th>\n",
       "      <th>energy</th>\n",
       "      <th>healthcare</th>\n",
       "      <th>environment</th>\n",
       "      <th>education</th>\n",
       "      <th>defense</th>\n",
       "      <th>government</th>\n",
       "      <th>infrastructure</th>\n",
       "      <th>economy</th>\n",
       "      <th>international</th>\n",
       "      <th>year</th>\n",
       "      <th>president</th>\n",
       "      <th>political_party</th>\n",
       "    </tr>\n",
       "  </thead>\n",
       "  <tbody>\n",
       "    <tr>\n",
       "      <th>11</th>\n",
       "      <td>83</td>\n",
       "      <td>35</td>\n",
       "      <td>14</td>\n",
       "      <td>34</td>\n",
       "      <td>20</td>\n",
       "      <td>65</td>\n",
       "      <td>102</td>\n",
       "      <td>43</td>\n",
       "      <td>111</td>\n",
       "      <td>95</td>\n",
       "      <td>1981</td>\n",
       "      <td>Jimmy Carter</td>\n",
       "      <td>Democrat</td>\n",
       "    </tr>\n",
       "  </tbody>\n",
       "</table>\n",
       "</div>"
      ],
      "text/plain": [
       "    social  energy  healthcare  environment  education  defense  government  \\\n",
       "11      83      35          14           34         20       65         102   \n",
       "\n",
       "    infrastructure  economy  international  year     president political_party  \n",
       "11              43      111             95  1981  Jimmy Carter        Democrat  "
      ]
     },
     "execution_count": 107,
     "metadata": {},
     "output_type": "execute_result"
    }
   ],
   "source": [
    " df[df['year'] == 1981]"
   ]
  },
  {
   "cell_type": "code",
   "execution_count": 52,
   "metadata": {
    "collapsed": false
   },
   "outputs": [],
   "source": [
    "# drop jimmy carter written sua\n",
    "df = df[df['year'] != 1981]"
   ]
  },
  {
   "cell_type": "code",
   "execution_count": 79,
   "metadata": {
    "collapsed": false
   },
   "outputs": [],
   "source": [
    "sum_df = df.groupby(by='president').agg({topic: 'sum' for topic in stemmed_keywords.keys()})"
   ]
  },
  {
   "cell_type": "code",
   "execution_count": 80,
   "metadata": {
    "collapsed": false
   },
   "outputs": [],
   "source": [
    "sum_df['topics_sum'] = sum_df.sum(axis=1)"
   ]
  },
  {
   "cell_type": "code",
   "execution_count": 97,
   "metadata": {
    "collapsed": false
   },
   "outputs": [
    {
     "data": {
      "text/html": [
       "<div>\n",
       "<table border=\"1\" class=\"dataframe\">\n",
       "  <thead>\n",
       "    <tr style=\"text-align: right;\">\n",
       "      <th></th>\n",
       "      <th>social</th>\n",
       "      <th>energy</th>\n",
       "      <th>healthcare</th>\n",
       "      <th>environment</th>\n",
       "      <th>education</th>\n",
       "      <th>defense</th>\n",
       "      <th>government</th>\n",
       "      <th>infrastructure</th>\n",
       "      <th>economy</th>\n",
       "      <th>international</th>\n",
       "      <th>topics_sum</th>\n",
       "    </tr>\n",
       "    <tr>\n",
       "      <th>president</th>\n",
       "      <th></th>\n",
       "      <th></th>\n",
       "      <th></th>\n",
       "      <th></th>\n",
       "      <th></th>\n",
       "      <th></th>\n",
       "      <th></th>\n",
       "      <th></th>\n",
       "      <th></th>\n",
       "      <th></th>\n",
       "      <th></th>\n",
       "    </tr>\n",
       "  </thead>\n",
       "  <tbody>\n",
       "    <tr>\n",
       "      <th>Barack Obama</th>\n",
       "      <td>266</td>\n",
       "      <td>118</td>\n",
       "      <td>65</td>\n",
       "      <td>56</td>\n",
       "      <td>118</td>\n",
       "      <td>212</td>\n",
       "      <td>378</td>\n",
       "      <td>121</td>\n",
       "      <td>379</td>\n",
       "      <td>229</td>\n",
       "      <td>1942</td>\n",
       "    </tr>\n",
       "    <tr>\n",
       "      <th>George H.W. Bush</th>\n",
       "      <td>79</td>\n",
       "      <td>18</td>\n",
       "      <td>13</td>\n",
       "      <td>20</td>\n",
       "      <td>27</td>\n",
       "      <td>62</td>\n",
       "      <td>118</td>\n",
       "      <td>25</td>\n",
       "      <td>95</td>\n",
       "      <td>72</td>\n",
       "      <td>529</td>\n",
       "    </tr>\n",
       "    <tr>\n",
       "      <th>George W. Bush</th>\n",
       "      <td>273</td>\n",
       "      <td>88</td>\n",
       "      <td>71</td>\n",
       "      <td>58</td>\n",
       "      <td>81</td>\n",
       "      <td>224</td>\n",
       "      <td>369</td>\n",
       "      <td>58</td>\n",
       "      <td>286</td>\n",
       "      <td>224</td>\n",
       "      <td>1732</td>\n",
       "    </tr>\n",
       "    <tr>\n",
       "      <th>Gerald R. Ford</th>\n",
       "      <td>72</td>\n",
       "      <td>31</td>\n",
       "      <td>12</td>\n",
       "      <td>18</td>\n",
       "      <td>8</td>\n",
       "      <td>70</td>\n",
       "      <td>124</td>\n",
       "      <td>21</td>\n",
       "      <td>119</td>\n",
       "      <td>88</td>\n",
       "      <td>563</td>\n",
       "    </tr>\n",
       "    <tr>\n",
       "      <th>Jimmy Carter</th>\n",
       "      <td>69</td>\n",
       "      <td>23</td>\n",
       "      <td>6</td>\n",
       "      <td>15</td>\n",
       "      <td>9</td>\n",
       "      <td>71</td>\n",
       "      <td>94</td>\n",
       "      <td>17</td>\n",
       "      <td>102</td>\n",
       "      <td>77</td>\n",
       "      <td>483</td>\n",
       "    </tr>\n",
       "    <tr>\n",
       "      <th>Richard Nixon</th>\n",
       "      <td>98</td>\n",
       "      <td>25</td>\n",
       "      <td>19</td>\n",
       "      <td>34</td>\n",
       "      <td>24</td>\n",
       "      <td>71</td>\n",
       "      <td>178</td>\n",
       "      <td>32</td>\n",
       "      <td>157</td>\n",
       "      <td>94</td>\n",
       "      <td>732</td>\n",
       "    </tr>\n",
       "    <tr>\n",
       "      <th>Ronald Reagan</th>\n",
       "      <td>197</td>\n",
       "      <td>36</td>\n",
       "      <td>29</td>\n",
       "      <td>30</td>\n",
       "      <td>69</td>\n",
       "      <td>148</td>\n",
       "      <td>298</td>\n",
       "      <td>59</td>\n",
       "      <td>273</td>\n",
       "      <td>191</td>\n",
       "      <td>1330</td>\n",
       "    </tr>\n",
       "    <tr>\n",
       "      <th>William J. Clinton</th>\n",
       "      <td>296</td>\n",
       "      <td>70</td>\n",
       "      <td>70</td>\n",
       "      <td>84</td>\n",
       "      <td>102</td>\n",
       "      <td>191</td>\n",
       "      <td>341</td>\n",
       "      <td>79</td>\n",
       "      <td>326</td>\n",
       "      <td>219</td>\n",
       "      <td>1778</td>\n",
       "    </tr>\n",
       "  </tbody>\n",
       "</table>\n",
       "</div>"
      ],
      "text/plain": [
       "                    social  energy  healthcare  environment  education  \\\n",
       "president                                                                \n",
       "Barack Obama           266     118          65           56        118   \n",
       "George H.W. Bush        79      18          13           20         27   \n",
       "George W. Bush         273      88          71           58         81   \n",
       "Gerald R. Ford          72      31          12           18          8   \n",
       "Jimmy Carter            69      23           6           15          9   \n",
       "Richard Nixon           98      25          19           34         24   \n",
       "Ronald Reagan          197      36          29           30         69   \n",
       "William J. Clinton     296      70          70           84        102   \n",
       "\n",
       "                    defense  government  infrastructure  economy  \\\n",
       "president                                                          \n",
       "Barack Obama            212         378             121      379   \n",
       "George H.W. Bush         62         118              25       95   \n",
       "George W. Bush          224         369              58      286   \n",
       "Gerald R. Ford           70         124              21      119   \n",
       "Jimmy Carter             71          94              17      102   \n",
       "Richard Nixon            71         178              32      157   \n",
       "Ronald Reagan           148         298              59      273   \n",
       "William J. Clinton      191         341              79      326   \n",
       "\n",
       "                    international  topics_sum  \n",
       "president                                      \n",
       "Barack Obama                  229        1942  \n",
       "George H.W. Bush               72         529  \n",
       "George W. Bush                224        1732  \n",
       "Gerald R. Ford                 88         563  \n",
       "Jimmy Carter                   77         483  \n",
       "Richard Nixon                  94         732  \n",
       "Ronald Reagan                 191        1330  \n",
       "William J. Clinton            219        1778  "
      ]
     },
     "execution_count": 97,
     "metadata": {},
     "output_type": "execute_result"
    }
   ],
   "source": [
    "sum_df"
   ]
  },
  {
   "cell_type": "code",
   "execution_count": 84,
   "metadata": {
    "collapsed": false
   },
   "outputs": [],
   "source": [
    "frac_df = sum_df[[topic for topic in stemmed_keywords.keys()]].div(sum_df['topics_sum'], axis=0).reset_index()"
   ]
  },
  {
   "cell_type": "code",
   "execution_count": 85,
   "metadata": {
    "collapsed": false
   },
   "outputs": [
    {
     "data": {
      "text/html": [
       "<div>\n",
       "<table border=\"1\" class=\"dataframe\">\n",
       "  <thead>\n",
       "    <tr style=\"text-align: right;\">\n",
       "      <th></th>\n",
       "      <th>president</th>\n",
       "      <th>social</th>\n",
       "      <th>energy</th>\n",
       "      <th>healthcare</th>\n",
       "      <th>environment</th>\n",
       "      <th>education</th>\n",
       "      <th>defense</th>\n",
       "      <th>government</th>\n",
       "      <th>infrastructure</th>\n",
       "      <th>economy</th>\n",
       "      <th>international</th>\n",
       "    </tr>\n",
       "  </thead>\n",
       "  <tbody>\n",
       "    <tr>\n",
       "      <th>0</th>\n",
       "      <td>Barack Obama</td>\n",
       "      <td>0.136972</td>\n",
       "      <td>0.060762</td>\n",
       "      <td>0.033471</td>\n",
       "      <td>0.028836</td>\n",
       "      <td>0.060762</td>\n",
       "      <td>0.109166</td>\n",
       "      <td>0.194645</td>\n",
       "      <td>0.062307</td>\n",
       "      <td>0.195160</td>\n",
       "      <td>0.117920</td>\n",
       "    </tr>\n",
       "    <tr>\n",
       "      <th>1</th>\n",
       "      <td>George H.W. Bush</td>\n",
       "      <td>0.149338</td>\n",
       "      <td>0.034026</td>\n",
       "      <td>0.024575</td>\n",
       "      <td>0.037807</td>\n",
       "      <td>0.051040</td>\n",
       "      <td>0.117202</td>\n",
       "      <td>0.223062</td>\n",
       "      <td>0.047259</td>\n",
       "      <td>0.179584</td>\n",
       "      <td>0.136106</td>\n",
       "    </tr>\n",
       "    <tr>\n",
       "      <th>2</th>\n",
       "      <td>George W. Bush</td>\n",
       "      <td>0.157621</td>\n",
       "      <td>0.050808</td>\n",
       "      <td>0.040993</td>\n",
       "      <td>0.033487</td>\n",
       "      <td>0.046767</td>\n",
       "      <td>0.129330</td>\n",
       "      <td>0.213048</td>\n",
       "      <td>0.033487</td>\n",
       "      <td>0.165127</td>\n",
       "      <td>0.129330</td>\n",
       "    </tr>\n",
       "    <tr>\n",
       "      <th>3</th>\n",
       "      <td>Gerald R. Ford</td>\n",
       "      <td>0.127886</td>\n",
       "      <td>0.055062</td>\n",
       "      <td>0.021314</td>\n",
       "      <td>0.031972</td>\n",
       "      <td>0.014210</td>\n",
       "      <td>0.124334</td>\n",
       "      <td>0.220249</td>\n",
       "      <td>0.037300</td>\n",
       "      <td>0.211368</td>\n",
       "      <td>0.156306</td>\n",
       "    </tr>\n",
       "    <tr>\n",
       "      <th>4</th>\n",
       "      <td>Jimmy Carter</td>\n",
       "      <td>0.142857</td>\n",
       "      <td>0.047619</td>\n",
       "      <td>0.012422</td>\n",
       "      <td>0.031056</td>\n",
       "      <td>0.018634</td>\n",
       "      <td>0.146998</td>\n",
       "      <td>0.194617</td>\n",
       "      <td>0.035197</td>\n",
       "      <td>0.211180</td>\n",
       "      <td>0.159420</td>\n",
       "    </tr>\n",
       "    <tr>\n",
       "      <th>5</th>\n",
       "      <td>Richard Nixon</td>\n",
       "      <td>0.133880</td>\n",
       "      <td>0.034153</td>\n",
       "      <td>0.025956</td>\n",
       "      <td>0.046448</td>\n",
       "      <td>0.032787</td>\n",
       "      <td>0.096995</td>\n",
       "      <td>0.243169</td>\n",
       "      <td>0.043716</td>\n",
       "      <td>0.214481</td>\n",
       "      <td>0.128415</td>\n",
       "    </tr>\n",
       "    <tr>\n",
       "      <th>6</th>\n",
       "      <td>Ronald Reagan</td>\n",
       "      <td>0.148120</td>\n",
       "      <td>0.027068</td>\n",
       "      <td>0.021805</td>\n",
       "      <td>0.022556</td>\n",
       "      <td>0.051880</td>\n",
       "      <td>0.111278</td>\n",
       "      <td>0.224060</td>\n",
       "      <td>0.044361</td>\n",
       "      <td>0.205263</td>\n",
       "      <td>0.143609</td>\n",
       "    </tr>\n",
       "    <tr>\n",
       "      <th>7</th>\n",
       "      <td>William J. Clinton</td>\n",
       "      <td>0.166479</td>\n",
       "      <td>0.039370</td>\n",
       "      <td>0.039370</td>\n",
       "      <td>0.047244</td>\n",
       "      <td>0.057368</td>\n",
       "      <td>0.107424</td>\n",
       "      <td>0.191789</td>\n",
       "      <td>0.044432</td>\n",
       "      <td>0.183352</td>\n",
       "      <td>0.123172</td>\n",
       "    </tr>\n",
       "  </tbody>\n",
       "</table>\n",
       "</div>"
      ],
      "text/plain": [
       "            president    social    energy  healthcare  environment  education  \\\n",
       "0        Barack Obama  0.136972  0.060762    0.033471     0.028836   0.060762   \n",
       "1    George H.W. Bush  0.149338  0.034026    0.024575     0.037807   0.051040   \n",
       "2      George W. Bush  0.157621  0.050808    0.040993     0.033487   0.046767   \n",
       "3      Gerald R. Ford  0.127886  0.055062    0.021314     0.031972   0.014210   \n",
       "4        Jimmy Carter  0.142857  0.047619    0.012422     0.031056   0.018634   \n",
       "5       Richard Nixon  0.133880  0.034153    0.025956     0.046448   0.032787   \n",
       "6       Ronald Reagan  0.148120  0.027068    0.021805     0.022556   0.051880   \n",
       "7  William J. Clinton  0.166479  0.039370    0.039370     0.047244   0.057368   \n",
       "\n",
       "    defense  government  infrastructure   economy  international  \n",
       "0  0.109166    0.194645        0.062307  0.195160       0.117920  \n",
       "1  0.117202    0.223062        0.047259  0.179584       0.136106  \n",
       "2  0.129330    0.213048        0.033487  0.165127       0.129330  \n",
       "3  0.124334    0.220249        0.037300  0.211368       0.156306  \n",
       "4  0.146998    0.194617        0.035197  0.211180       0.159420  \n",
       "5  0.096995    0.243169        0.043716  0.214481       0.128415  \n",
       "6  0.111278    0.224060        0.044361  0.205263       0.143609  \n",
       "7  0.107424    0.191789        0.044432  0.183352       0.123172  "
      ]
     },
     "execution_count": 85,
     "metadata": {},
     "output_type": "execute_result"
    }
   ],
   "source": [
    "frac_df"
   ]
  },
  {
   "cell_type": "code",
   "execution_count": 54,
   "metadata": {
    "collapsed": true
   },
   "outputs": [],
   "source": [
    "# std_df = df.groupby(by='president') \\\n",
    "#     .agg({topic: 'std' for topic in stemmed_keywords.keys()}) \\\n",
    "#     .rename(columns={topic: topic + '_std' for topic in stemmed_keywords.keys()}).reset_index()"
   ]
  },
  {
   "cell_type": "code",
   "execution_count": 55,
   "metadata": {
    "collapsed": true
   },
   "outputs": [],
   "source": [
    "# zscore_df = pd.merge(df, mean_df, left_on='president', right_on='president')\n",
    "# zscore_df = pd.merge(zscore_df, std_df, left_on='president', right_on='president')"
   ]
  },
  {
   "cell_type": "code",
   "execution_count": 56,
   "metadata": {
    "collapsed": true
   },
   "outputs": [],
   "source": [
    "# for col in stemmed_keywords.keys():\n",
    "#     col_zscore = col + '_zscore'\n",
    "#     col_mean = col + '_mean'\n",
    "#     col_std = col + '_std'\n",
    "#     zscore_df[col_zscore] = (zscore_df[col] - zscore_df[col_mean]) / zscore_df[col_std]"
   ]
  },
  {
   "cell_type": "code",
   "execution_count": 75,
   "metadata": {
    "collapsed": false
   },
   "outputs": [],
   "source": [
    "# zscore_df[['president'] + [col+'_zscore' for col in stemmed_keywords.keys()]]"
   ]
  },
  {
   "cell_type": "code",
   "execution_count": 10,
   "metadata": {
    "collapsed": true
   },
   "outputs": [],
   "source": [
    "presidents_ordered = ['Richard Nixon', 'Gerald R. Ford', 'Jimmy Carter', 'Ronald Reagan', 'George H.W. Bush',\n",
    "                      'William J. Clinton', 'George W. Bush', 'Barack Obama']"
   ]
  },
  {
   "cell_type": "code",
   "execution_count": 28,
   "metadata": {
    "collapsed": true
   },
   "outputs": [],
   "source": [
    "def plot_color(political_party):\n",
    "    if political_party == 'Republican':\n",
    "        return 'r'\n",
    "    else:\n",
    "        return 'b'"
   ]
  },
  {
   "cell_type": "code",
   "execution_count": 92,
   "metadata": {
    "collapsed": false
   },
   "outputs": [
    {
     "data": {
      "text/plain": [
       "'Democrat'"
      ]
     },
     "execution_count": 92,
     "metadata": {},
     "output_type": "execute_result"
    }
   ],
   "source": [
    "# fig, ax = plt.subplots()\n",
    "# for i, president in enumerate(presidents_ordered):\n",
    "#     for j, topic in enumerate(stemmed_keywords.keys()):\n",
    "#         president_row = zscore_df[zscore_df['president'] == president]\n",
    "#         topic_zscore = president_row[topic+'_zscore']\n",
    "#         party = president_row['political_party'].mode()\n",
    "#         #print (president_row)\n",
    "#         #print (topic_zscore)\n",
    "#         #print (party)\n",
    "#         ax.scatter(i, j, s=topic_zscore*200, color=plot_color(party), alpha=0.75)\n",
    "# ax.set_xticklabels([''] + [p.split(' ')[-1] for p in presidents_ordered], rotation=45)\n",
    "# ax.set_yticklabels(list(stemmed_keywords.keys()))\n",
    "# ax.set_yticks(list(range(0, len(list(stemmed_keywords.keys())))))\n"
   ]
  },
  {
   "cell_type": "code",
   "execution_count": 102,
   "metadata": {
    "collapsed": false
   },
   "outputs": [
    {
     "data": {
      "image/png": "[encoded data removed]",
      "text/plain": [
       "<matplotlib.figure.Figure at 0x113503d90>"
      ]
     },
     "metadata": {},
     "output_type": "display_data"
    }
   ],
   "source": [
    "fig, ax = plt.subplots()\n",
    "for i, president in enumerate(presidents_ordered):\n",
    "    for j, topic in enumerate(stemmed_keywords.keys()):\n",
    "        frac = frac_df[frac_df['president'] == president][topic]\n",
    "        party = df[df['president'] == president]['political_party'].iloc[0]\n",
    "        ax.scatter(i, j, s=frac*1000, color=plot_color(party), alpha=0.75)\n",
    "ax.set_xticklabels([''] + [p.split(' ')[-1] for p in presidents_ordered], rotation=45)\n",
    "ax.set_yticklabels(list(stemmed_keywords.keys()))\n",
    "ax.set_yticks(list(range(0, len(list(stemmed_keywords.keys())))))\n",
    "fig.set_size_inches(10, 8)"
   ]
  },
  {
   "cell_type": "code",
   "execution_count": null,
   "metadata": {
    "collapsed": true
   },
   "outputs": [],
   "source": []
  }
 ],
 "metadata": {
  "kernelspec": {
   "display_name": "Python 3",
   "language": "python",
   "name": "python3"
  },
  "language_info": {
   "codemirror_mode": {
    "name": "ipython",
    "version": 3
   },
   "file_extension": ".py",
   "mimetype": "text/x-python",
   "name": "python",
   "nbconvert_exporter": "python",
   "pygments_lexer": "ipython3",
   "version": "3.3.4"
  }
 },
 "nbformat": 4,
 "nbformat_minor": 0
}
