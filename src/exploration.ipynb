{
 "cells": [
  {
   "cell_type": "code",
   "execution_count": 7,
   "metadata": {
    "collapsed": false
   },
   "outputs": [],
   "source": [
    "from datetime import datetime\n",
    "from matplotlib import pyplot as plt\n",
    "\n",
    "import pandas as pd\n",
    "\n",
    "from nltk.corpus import stopwords\n",
    "from nltk import word_tokenize\n",
    "from nltk.stem import PorterStemmer\n",
    "\n",
    "from sklearn.feature_extraction.text import TfidfVectorizer, CountVectorizer\n",
    "from sklearn.decomposition import NMF\n",
    "from sklearn.decomposition import PCA\n",
    "from sklearn.decomposition import SparsePCA\n",
    "from sklearn.decomposition import ProjectedGradientNMF\n",
    "from sklearn.decomposition import TruncatedSVD\n",
    "from sklearn.decomposition import FactorAnalysis\n",
    "from sklearn.decomposition import LatentDirichletAllocation\n",
    "\n",
    "\n",
    "import utils"
   ]
  },
  {
   "cell_type": "code",
   "execution_count": 3,
   "metadata": {
    "collapsed": false
   },
   "outputs": [],
   "source": [
    "%matplotlib inline"
   ]
  },
  {
   "cell_type": "code",
   "execution_count": 8,
   "metadata": {
    "collapsed": false
   },
   "outputs": [],
   "source": [
    "df = pd.read_json(utils.enriched_suas_fname)\n",
    "suas = utils.get_suas()"
   ]
  },
  {
   "cell_type": "code",
   "execution_count": 9,
   "metadata": {
    "collapsed": false
   },
   "outputs": [],
   "source": [
    "#stops = stopwords.words('english')\n",
    "stopwords_fname = 'stopwords1.txt'\n",
    "stops = open(stopwords_fname, 'r').read().splitlines()"
   ]
  },
  {
   "cell_type": "code",
   "execution_count": 10,
   "metadata": {
    "collapsed": true
   },
   "outputs": [],
   "source": [
    "n_topics = 10\n",
    "n_top_words = 20"
   ]
  },
  {
   "cell_type": "code",
   "execution_count": 11,
   "metadata": {
    "collapsed": false
   },
   "outputs": [],
   "source": [
    "def stem_tokenizer(text):\n",
    "    tokens = word_tokenize(text)\n",
    "    stemmer = PorterStemmer()\n",
    "    stems = list(set([stemmer.stem(word) for word in tokens]))\n",
    "    return stems"
   ]
  },
  {
   "cell_type": "code",
   "execution_count": null,
   "metadata": {
    "collapsed": true
   },
   "outputs": [],
   "source": [
    "tfidf.head()"
   ]
  },
  {
   "cell_type": "code",
   "execution_count": 16,
   "metadata": {
    "collapsed": true
   },
   "outputs": [],
   "source": [
    "tf_vectorizer = CountVectorizer(max_df=0.98, min_df=1, decode_error='ignore', ngram_range=(2,3),\n",
    "                                   stop_words=stops, tokenizer=stem_tokenizer)"
   ]
  },
  {
   "cell_type": "code",
   "execution_count": 17,
   "metadata": {
    "collapsed": true
   },
   "outputs": [],
   "source": [
    "tf = tf_vectorizer.fit_transform([sua[2] for sua in suas])"
   ]
  },
  {
   "cell_type": "code",
   "execution_count": 18,
   "metadata": {
    "collapsed": true
   },
   "outputs": [],
   "source": [
    "nmf = NMF(n_components=n_topics, random_state=1, alpha=.1, l1_ratio=.5)"
   ]
  },
  {
   "cell_type": "code",
   "execution_count": 19,
   "metadata": {
    "collapsed": false
   },
   "outputs": [
    {
     "data": {
      "text/plain": [
       "NMF(alpha=0.1, beta=1, eta=0.1, init=None, l1_ratio=0.5, max_iter=200,\n",
       "  n_components=10, nls_max_iter=2000, random_state=1, shuffle=False,\n",
       "  solver='cd', sparseness=None, tol=0.0001, verbose=0)"
      ]
     },
     "execution_count": 19,
     "metadata": {},
     "output_type": "execute_result"
    }
   ],
   "source": [
    "nmf.fit(tfidf.todense())"
   ]
  },
  {
   "cell_type": "code",
   "execution_count": 20,
   "metadata": {
    "collapsed": true
   },
   "outputs": [],
   "source": [
    "def print_top_words(model, feature_names, n_top_words):\n",
    "    for topic_idx, topic in enumerate(model.components_):\n",
    "        print(\"Topic #%d:\" % topic_idx)\n",
    "        print(\" \".join([feature_names[i]\n",
    "                        for i in topic.argsort()[:-n_top_words - 1:-1]]))\n",
    "    print()"
   ]
  },
  {
   "cell_type": "code",
   "execution_count": 21,
   "metadata": {
    "collapsed": true
   },
   "outputs": [],
   "source": [
    "def fit_and_print_top_words(model, tfidf, vectorizer, n_top_words):\n",
    "    feature_names = vectorizer.get_feature_names()\n",
    "    model.fit(tfidf.todense())\n",
    "    print_top_words(model, feature_names, n_top_words)"
   ]
  },
  {
   "cell_type": "code",
   "execution_count": 22,
   "metadata": {
    "collapsed": false
   },
   "outputs": [
    {
     "name": "stdout",
     "output_type": "stream",
     "text": [
      "Topic #0:\n",
      "zuloaga complaint futur effort fought touch effort gener effort gener crowd effort gener disappoint effort gener forest effort gener minimum effort gener outstand effort gener remnant effort gener spot effort girl effort girl driven effort induc effort induc accord effort induc act effort induc money effort induc occurr effort fought wartim effort fought third effort inform armor\n",
      "Topic #1:\n",
      "zuloaga complaint futur effort fought touch effort gener effort gener crowd effort gener disappoint effort gener forest effort gener minimum effort gener outstand effort gener remnant effort gener spot effort girl effort girl driven effort induc effort induc accord effort induc act effort induc money effort induc occurr effort fought wartim effort fought third effort inform armor\n",
      "Topic #2:\n",
      "zuloaga complaint futur effort fought touch effort gener effort gener crowd effort gener disappoint effort gener forest effort gener minimum effort gener outstand effort gener remnant effort gener spot effort girl effort girl driven effort induc effort induc accord effort induc act effort induc money effort induc occurr effort fought wartim effort fought third effort inform armor\n",
      "Topic #3:\n",
      "zuloaga complaint futur effort fought touch effort gener effort gener crowd effort gener disappoint effort gener forest effort gener minimum effort gener outstand effort gener remnant effort gener spot effort girl effort girl driven effort induc effort induc accord effort induc act effort induc money effort induc occurr effort fought wartim effort fought third effort inform armor\n",
      "Topic #4:\n",
      "zuloaga complaint futur effort fought touch effort gener effort gener crowd effort gener disappoint effort gener forest effort gener minimum effort gener outstand effort gener remnant effort gener spot effort girl effort girl driven effort induc effort induc accord effort induc act effort induc money effort induc occurr effort fought wartim effort fought third effort inform armor\n",
      "Topic #5:\n",
      "zuloaga complaint futur effort fought touch effort gener effort gener crowd effort gener disappoint effort gener forest effort gener minimum effort gener outstand effort gener remnant effort gener spot effort girl effort girl driven effort induc effort induc accord effort induc act effort induc money effort induc occurr effort fought wartim effort fought third effort inform armor\n",
      "Topic #6:\n",
      "zuloaga complaint futur effort fought touch effort gener effort gener crowd effort gener disappoint effort gener forest effort gener minimum effort gener outstand effort gener remnant effort gener spot effort girl effort girl driven effort induc effort induc accord effort induc act effort induc money effort induc occurr effort fought wartim effort fought third effort inform armor\n",
      "Topic #7:\n",
      "zuloaga complaint futur effort fought touch effort gener effort gener crowd effort gener disappoint effort gener forest effort gener minimum effort gener outstand effort gener remnant effort gener spot effort girl effort girl driven effort induc effort induc accord effort induc act effort induc money effort induc occurr effort fought wartim effort fought third effort inform armor\n",
      "Topic #8:\n",
      "zuloaga complaint futur effort fought touch effort gener effort gener crowd effort gener disappoint effort gener forest effort gener minimum effort gener outstand effort gener remnant effort gener spot effort girl effort girl driven effort induc effort induc accord effort induc act effort induc money effort induc occurr effort fought wartim effort fought third effort inform armor\n",
      "Topic #9:\n",
      "zuloaga complaint futur effort fought touch effort gener effort gener crowd effort gener disappoint effort gener forest effort gener minimum effort gener outstand effort gener remnant effort gener spot effort girl effort girl driven effort induc effort induc accord effort induc act effort induc money effort induc occurr effort fought wartim effort fought third effort inform armor\n",
      "\n"
     ]
    }
   ],
   "source": [
    "tfidf_feature_names = tfidf_vectorizer.get_feature_names()\n",
    "print_top_words(nmf, tfidf_feature_names, n_top_words)"
   ]
  },
  {
   "cell_type": "code",
   "execution_count": 23,
   "metadata": {
    "collapsed": true
   },
   "outputs": [],
   "source": [
    "lda = LatentDirichletAllocation(n_topics=n_topics, max_iter=5,\n",
    "                                learning_method='online', learning_offset=50.,\n",
    "                                random_state=1)"
   ]
  },
  {
   "cell_type": "code",
   "execution_count": 24,
   "metadata": {
    "collapsed": false
   },
   "outputs": [
    {
     "data": {
      "text/plain": [
       "LatentDirichletAllocation(batch_size=128, doc_topic_prior=None,\n",
       "             evaluate_every=-1, learning_decay=0.7,\n",
       "             learning_method='online', learning_offset=50.0,\n",
       "             max_doc_update_iter=100, max_iter=5, mean_change_tol=0.001,\n",
       "             n_jobs=1, n_topics=10, perp_tol=0.1, random_state=1,\n",
       "             topic_word_prior=None, total_samples=1000000.0, verbose=0)"
      ]
     },
     "execution_count": 24,
     "metadata": {},
     "output_type": "execute_result"
    }
   ],
   "source": [
    "lda.fit(tf)"
   ]
  },
  {
   "cell_type": "code",
   "execution_count": 25,
   "metadata": {
    "collapsed": false
   },
   "outputs": [
    {
     "name": "stdout",
     "output_type": "stream",
     "text": [
      "Topic #0:\n",
      ". thi world congress fail nation ha spirit result left believ object spirit 's reason person direct final common depend strengthen befor ; public possibl care ha spirit 's war doe promot offic detail '' strong economi : renew save limit\n",
      "Topic #1:\n",
      ". thi strengthen befor reason person spirit 's ; public becom -- possibl care neighbor act condit princip support day protect experi relat thu -- realiz thi everi fail nation tax expect promot offic seriou land ago centuri ha spirit\n",
      "Topic #2:\n",
      "strengthen befor alreadi hous tax expect . thi fail nation ha spirit : renew spirit 's congress recogn world congress ha spirit 's immedi intern rule perman neighbor act abov defens arm insist reason person distinguish . becom -- world congress recogn\n",
      "Topic #3:\n",
      ". thi reason person world congress tax expect fail nation spirit 's support day prevent step mr. propos forc reason direct final becom -- polici `` ha spirit avail polici appropri individu thi god believ object thi everi . thi god\n",
      "Topic #4:\n",
      "alreadi hous veri connect promot offic reason person mani provis possibl care protect experi relat thu spirit 's immedi intern suggest develop determin noth seriou land govern benefit recogn requir condit princip court cours believ object session industri restor amount\n",
      "Topic #5:\n",
      "possibl care avail polici spirit 's promot offic believ object relat thu support day reason person protect experi object advantag strengthen befor applic justic alreadi hous consequ foreign believ object advantag person close extent extens seriou land court cours mere propos\n",
      "Topic #6:\n",
      ". thi reason person spirit 's strengthen befor -- realiz fail nation mani provis promot offic relat thu ha spirit avail polici world congress protect experi polici `` energi help . thi everi support day becom -- thi everi believ object\n",
      "Topic #7:\n",
      ". thi neighbor act spirit 's protect experi support day mani provis strengthen befor fail nation rule perman immedi intern reason person prevent step court cours befor court cours : renew . thi everi continu sinc energi help promot offic thi everi\n",
      "Topic #8:\n",
      "spirit 's support day protect experi . thi promot offic person close reach pledg thi god school democrat world congress suggest develop possibl care god everi believ object . thi god neighbor act mani provis ha spirit thi god everi result left\n",
      "Topic #9:\n",
      "recogn requir polici `` spirit 's support day strengthen befor -- realiz circumst sever protect experi hold pacif govern benefit restor amount independ individu continu sinc believ object promot offic relat thu reason person close reason person condit princip possibl care\n",
      "\n"
     ]
    }
   ],
   "source": [
    "tf_feature_names = tf_vectorizer.get_feature_names()\n",
    "print_top_words(lda, tf_feature_names, n_top_words)"
   ]
  },
  {
   "cell_type": "code",
   "execution_count": 26,
   "metadata": {
    "collapsed": false
   },
   "outputs": [
    {
     "data": {
      "text/plain": [
       "scipy.sparse.csr.csr_matrix"
      ]
     },
     "execution_count": 26,
     "metadata": {},
     "output_type": "execute_result"
    }
   ],
   "source": [
    "type(tfidf)"
   ]
  },
  {
   "cell_type": "code",
   "execution_count": 27,
   "metadata": {
    "collapsed": true
   },
   "outputs": [],
   "source": [
    "tfidf_vectorizer2 = TfidfVectorizer(max_df=0.98, min_df=1, decode_error='ignore', ngram_range=(2,3), stop_words=stops)"
   ]
  },
  {
   "cell_type": "code",
   "execution_count": 28,
   "metadata": {
    "collapsed": true
   },
   "outputs": [],
   "source": [
    "tfidf2 = tfidf_vectorizer2.fit_transform([sua[2] for sua in suas])"
   ]
  },
  {
   "cell_type": "code",
   "execution_count": null,
   "metadata": {
    "collapsed": false
   },
   "outputs": [
    {
     "name": "stderr",
     "output_type": "stream",
     "text": [
      "/usr/local/lib/python3.3/site-packages/sklearn/utils/__init__.py:75: DeprecationWarning: Class ProjectedGradientNMF is deprecated; It will be removed in release 0.19. Use NMF instead.'pg' solver is still available until release 0.19.\n",
      "  warnings.warn(msg, category=DeprecationWarning)\n"
     ]
    }
   ],
   "source": [
    "nmf = NMF(n_components=n_topics, random_state=1)\n",
    "pca = PCA(copy=True, n_components=n_topics)\n",
    "pnmf = ProjectedGradientNMF(n_components=n_topics, random_state=1)\n",
    "tsvd = TruncatedSVD(n_components=n_topics, random_state=1)\n",
    "fa = FactorAnalysis(n_components=1, random_state=1)"
   ]
  },
  {
   "cell_type": "code",
   "execution_count": null,
   "metadata": {
    "collapsed": false
   },
   "outputs": [],
   "source": [
    "fit_and_print_top_words(nmf, tfidf2, tfidf_vectorizer2, n_top_words)"
   ]
  },
  {
   "cell_type": "code",
   "execution_count": null,
   "metadata": {
    "collapsed": false
   },
   "outputs": [],
   "source": [
    "fit_and_print_top_words(pca, tfidf, tfidf_vectorizer, n_top_words)"
   ]
  },
  {
   "cell_type": "code",
   "execution_count": null,
   "metadata": {
    "collapsed": false
   },
   "outputs": [],
   "source": [
    "fit_and_print_top_words(pnmf, tfidf, tfidf_vectorizer, n_top_words)"
   ]
  },
  {
   "cell_type": "code",
   "execution_count": null,
   "metadata": {
    "collapsed": true
   },
   "outputs": [],
   "source": []
  }
 ],
 "metadata": {
  "kernelspec": {
   "display_name": "Python 3",
   "language": "python",
   "name": "python3"
  },
  "language_info": {
   "codemirror_mode": {
    "name": "ipython",
    "version": 3
   },
   "file_extension": ".py",
   "mimetype": "text/x-python",
   "name": "python",
   "nbconvert_exporter": "python",
   "pygments_lexer": "ipython3",
   "version": "3.3.4"
  }
 },
 "nbformat": 4,
 "nbformat_minor": 0
}
