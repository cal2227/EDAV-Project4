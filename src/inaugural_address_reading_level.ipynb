{
 "cells": [
  {
   "cell_type": "code",
   "execution_count": 1,
   "metadata": {
    "collapsed": true
   },
   "outputs": [],
   "source": [
    "import pandas as pd\n",
    "import seaborn as sb\n",
    "\n",
    "import nltk\n",
    "from nltk.corpus import inaugural\n",
    "\n",
    "import utils"
   ]
  },
  {
   "cell_type": "code",
   "execution_count": 2,
   "metadata": {
    "collapsed": true
   },
   "outputs": [],
   "source": [
    "%matplotlib inline"
   ]
  },
  {
   "cell_type": "code",
   "execution_count": 3,
   "metadata": {
    "collapsed": true
   },
   "outputs": [],
   "source": [
    "cfd = nltk.ConditionalFreqDist(\n",
    "    (target, fileid[:4])    \n",
    "    for fileid in inaugural.fileids()    \n",
    "    for w in inaugural.words(fileid)    \n",
    "    for target in ['america', 'citizen', '']\n",
    "    if w.lower().startswith(target))"
   ]
  },
  {
   "cell_type": "code",
   "execution_count": 4,
   "metadata": {
    "collapsed": false
   },
   "outputs": [
    {
     "data": {
      "image/png": "[encoded data removed]",
      "text/plain": [
       "<matplotlib.figure.Figure at 0x111ebb450>"
      ]
     },
     "metadata": {},
     "output_type": "display_data"
    }
   ],
   "source": [
    "cfd.plot()"
   ]
  },
  {
   "cell_type": "code",
   "execution_count": 5,
   "metadata": {
    "collapsed": false
   },
   "outputs": [],
   "source": [
    "# ias = utils.get_inaugurals()"
   ]
  },
  {
   "cell_type": "code",
   "execution_count": 6,
   "metadata": {
    "collapsed": false
   },
   "outputs": [],
   "source": [
    "# utils.save_as_json(utils.inaugural_addrs_fname, ias)"
   ]
  },
  {
   "cell_type": "code",
   "execution_count": 7,
   "metadata": {
    "collapsed": true
   },
   "outputs": [],
   "source": [
    "df = pd.read_json(utils.inaugurals_reading_levels_fname)"
   ]
  },
  {
   "cell_type": "code",
   "execution_count": 8,
   "metadata": {
    "collapsed": false
   },
   "outputs": [
    {
     "data": {
      "text/html": [
       "<div>\n",
       "<table border=\"1\" class=\"dataframe\">\n",
       "  <thead>\n",
       "    <tr style=\"text-align: right;\">\n",
       "      <th></th>\n",
       "      <th>ARI</th>\n",
       "      <th>ColemanLiauIndex</th>\n",
       "      <th>FleschKincaidGradeLevel</th>\n",
       "      <th>FleschReadingEase</th>\n",
       "      <th>GunningFogIndex</th>\n",
       "      <th>LIX</th>\n",
       "      <th>RIX</th>\n",
       "      <th>SMOGIndex</th>\n",
       "      <th>year</th>\n",
       "    </tr>\n",
       "  </thead>\n",
       "  <tbody>\n",
       "    <tr>\n",
       "      <th>count</th>\n",
       "      <td>56.000000</td>\n",
       "      <td>56.000000</td>\n",
       "      <td>56.000000</td>\n",
       "      <td>56.000000</td>\n",
       "      <td>56.000000</td>\n",
       "      <td>56.000000</td>\n",
       "      <td>56.000000</td>\n",
       "      <td>56.000000</td>\n",
       "      <td>56.000000</td>\n",
       "    </tr>\n",
       "    <tr>\n",
       "      <th>mean</th>\n",
       "      <td>15.972658</td>\n",
       "      <td>9.389768</td>\n",
       "      <td>13.397773</td>\n",
       "      <td>57.591425</td>\n",
       "      <td>18.735439</td>\n",
       "      <td>54.418440</td>\n",
       "      <td>7.349821</td>\n",
       "      <td>14.636696</td>\n",
       "      <td>1899.000000</td>\n",
       "    </tr>\n",
       "    <tr>\n",
       "      <th>std</th>\n",
       "      <td>6.811966</td>\n",
       "      <td>1.714299</td>\n",
       "      <td>5.405907</td>\n",
       "      <td>18.134813</td>\n",
       "      <td>5.842928</td>\n",
       "      <td>14.610019</td>\n",
       "      <td>3.586382</td>\n",
       "      <td>3.274919</td>\n",
       "      <td>65.238026</td>\n",
       "    </tr>\n",
       "    <tr>\n",
       "      <th>min</th>\n",
       "      <td>6.215779</td>\n",
       "      <td>5.617600</td>\n",
       "      <td>5.224200</td>\n",
       "      <td>13.657600</td>\n",
       "      <td>10.252400</td>\n",
       "      <td>31.793308</td>\n",
       "      <td>2.462585</td>\n",
       "      <td>9.308401</td>\n",
       "      <td>1789.000000</td>\n",
       "    </tr>\n",
       "    <tr>\n",
       "      <th>25%</th>\n",
       "      <td>10.811428</td>\n",
       "      <td>7.856800</td>\n",
       "      <td>9.629225</td>\n",
       "      <td>46.305925</td>\n",
       "      <td>14.315000</td>\n",
       "      <td>43.299610</td>\n",
       "      <td>4.519392</td>\n",
       "      <td>12.166290</td>\n",
       "      <td>1844.000000</td>\n",
       "    </tr>\n",
       "    <tr>\n",
       "      <th>50%</th>\n",
       "      <td>14.582173</td>\n",
       "      <td>9.829100</td>\n",
       "      <td>12.274500</td>\n",
       "      <td>59.179250</td>\n",
       "      <td>17.523600</td>\n",
       "      <td>51.103821</td>\n",
       "      <td>6.336404</td>\n",
       "      <td>14.248950</td>\n",
       "      <td>1899.000000</td>\n",
       "    </tr>\n",
       "    <tr>\n",
       "      <th>75%</th>\n",
       "      <td>20.027415</td>\n",
       "      <td>10.732425</td>\n",
       "      <td>16.784450</td>\n",
       "      <td>72.236625</td>\n",
       "      <td>22.342200</td>\n",
       "      <td>63.620420</td>\n",
       "      <td>9.441796</td>\n",
       "      <td>17.006911</td>\n",
       "      <td>1954.000000</td>\n",
       "    </tr>\n",
       "    <tr>\n",
       "      <th>max</th>\n",
       "      <td>35.060931</td>\n",
       "      <td>11.982800</td>\n",
       "      <td>28.560700</td>\n",
       "      <td>90.442900</td>\n",
       "      <td>34.708000</td>\n",
       "      <td>94.468346</td>\n",
       "      <td>17.189189</td>\n",
       "      <td>22.448930</td>\n",
       "      <td>2009.000000</td>\n",
       "    </tr>\n",
       "  </tbody>\n",
       "</table>\n",
       "</div>"
      ],
      "text/plain": [
       "             ARI  ColemanLiauIndex  FleschKincaidGradeLevel  \\\n",
       "count  56.000000         56.000000                56.000000   \n",
       "mean   15.972658          9.389768                13.397773   \n",
       "std     6.811966          1.714299                 5.405907   \n",
       "min     6.215779          5.617600                 5.224200   \n",
       "25%    10.811428          7.856800                 9.629225   \n",
       "50%    14.582173          9.829100                12.274500   \n",
       "75%    20.027415         10.732425                16.784450   \n",
       "max    35.060931         11.982800                28.560700   \n",
       "\n",
       "       FleschReadingEase  GunningFogIndex        LIX        RIX  SMOGIndex  \\\n",
       "count          56.000000        56.000000  56.000000  56.000000  56.000000   \n",
       "mean           57.591425        18.735439  54.418440   7.349821  14.636696   \n",
       "std            18.134813         5.842928  14.610019   3.586382   3.274919   \n",
       "min            13.657600        10.252400  31.793308   2.462585   9.308401   \n",
       "25%            46.305925        14.315000  43.299610   4.519392  12.166290   \n",
       "50%            59.179250        17.523600  51.103821   6.336404  14.248950   \n",
       "75%            72.236625        22.342200  63.620420   9.441796  17.006911   \n",
       "max            90.442900        34.708000  94.468346  17.189189  22.448930   \n",
       "\n",
       "              year  \n",
       "count    56.000000  \n",
       "mean   1899.000000  \n",
       "std      65.238026  \n",
       "min    1789.000000  \n",
       "25%    1844.000000  \n",
       "50%    1899.000000  \n",
       "75%    1954.000000  \n",
       "max    2009.000000  "
      ]
     },
     "execution_count": 8,
     "metadata": {},
     "output_type": "execute_result"
    }
   ],
   "source": [
    "df.describe()"
   ]
  },
  {
   "cell_type": "code",
   "execution_count": 9,
   "metadata": {
    "collapsed": false
   },
   "outputs": [
    {
     "data": {
      "text/html": [
       "<div>\n",
       "<table border=\"1\" class=\"dataframe\">\n",
       "  <thead>\n",
       "    <tr style=\"text-align: right;\">\n",
       "      <th></th>\n",
       "      <th>ARI</th>\n",
       "      <th>ColemanLiauIndex</th>\n",
       "      <th>FleschKincaidGradeLevel</th>\n",
       "      <th>FleschReadingEase</th>\n",
       "      <th>GunningFogIndex</th>\n",
       "      <th>LIX</th>\n",
       "      <th>RIX</th>\n",
       "      <th>SMOGIndex</th>\n",
       "      <th>text</th>\n",
       "      <th>year</th>\n",
       "    </tr>\n",
       "  </thead>\n",
       "  <tbody>\n",
       "    <tr>\n",
       "      <th>0</th>\n",
       "      <td>34.363502</td>\n",
       "      <td>11.7116</td>\n",
       "      <td>27.9666</td>\n",
       "      <td>13.6576</td>\n",
       "      <td>34.2901</td>\n",
       "      <td>91.251880</td>\n",
       "      <td>16.304348</td>\n",
       "      <td>22.448930</td>\n",
       "      <td>Fellow - Citizens of the Senate and of the Hou...</td>\n",
       "      <td>1789</td>\n",
       "    </tr>\n",
       "    <tr>\n",
       "      <th>1</th>\n",
       "      <td>18.284184</td>\n",
       "      <td>10.0690</td>\n",
       "      <td>15.5194</td>\n",
       "      <td>49.2521</td>\n",
       "      <td>21.5027</td>\n",
       "      <td>61.920068</td>\n",
       "      <td>9.250000</td>\n",
       "      <td>16.693064</td>\n",
       "      <td>Fellow citizens , I am again called upon by th...</td>\n",
       "      <td>1793</td>\n",
       "    </tr>\n",
       "    <tr>\n",
       "      <th>2</th>\n",
       "      <td>35.060931</td>\n",
       "      <td>10.7302</td>\n",
       "      <td>28.5607</td>\n",
       "      <td>14.7331</td>\n",
       "      <td>34.7080</td>\n",
       "      <td>94.468346</td>\n",
       "      <td>17.189189</td>\n",
       "      <td>21.823505</td>\n",
       "      <td>When it was first perceived , in early times ,...</td>\n",
       "      <td>1797</td>\n",
       "    </tr>\n",
       "    <tr>\n",
       "      <th>3</th>\n",
       "      <td>23.183654</td>\n",
       "      <td>9.8456</td>\n",
       "      <td>18.3482</td>\n",
       "      <td>47.5747</td>\n",
       "      <td>24.3768</td>\n",
       "      <td>67.505199</td>\n",
       "      <td>9.585366</td>\n",
       "      <td>16.951134</td>\n",
       "      <td>Friends and Fellow Citizens : Called upon to u...</td>\n",
       "      <td>1801</td>\n",
       "    </tr>\n",
       "    <tr>\n",
       "      <th>4</th>\n",
       "      <td>26.733977</td>\n",
       "      <td>10.7391</td>\n",
       "      <td>21.4399</td>\n",
       "      <td>35.7084</td>\n",
       "      <td>27.6508</td>\n",
       "      <td>75.838516</td>\n",
       "      <td>12.111111</td>\n",
       "      <td>19.020820</td>\n",
       "      <td>Proceeding , fellow citizens , to that qualifi...</td>\n",
       "      <td>1805</td>\n",
       "    </tr>\n",
       "  </tbody>\n",
       "</table>\n",
       "</div>"
      ],
      "text/plain": [
       "         ARI  ColemanLiauIndex  FleschKincaidGradeLevel  FleschReadingEase  \\\n",
       "0  34.363502           11.7116                  27.9666            13.6576   \n",
       "1  18.284184           10.0690                  15.5194            49.2521   \n",
       "2  35.060931           10.7302                  28.5607            14.7331   \n",
       "3  23.183654            9.8456                  18.3482            47.5747   \n",
       "4  26.733977           10.7391                  21.4399            35.7084   \n",
       "\n",
       "   GunningFogIndex        LIX        RIX  SMOGIndex  \\\n",
       "0          34.2901  91.251880  16.304348  22.448930   \n",
       "1          21.5027  61.920068   9.250000  16.693064   \n",
       "2          34.7080  94.468346  17.189189  21.823505   \n",
       "3          24.3768  67.505199   9.585366  16.951134   \n",
       "4          27.6508  75.838516  12.111111  19.020820   \n",
       "\n",
       "                                                text  year  \n",
       "0  Fellow - Citizens of the Senate and of the Hou...  1789  \n",
       "1  Fellow citizens , I am again called upon by th...  1793  \n",
       "2  When it was first perceived , in early times ,...  1797  \n",
       "3  Friends and Fellow Citizens : Called upon to u...  1801  \n",
       "4  Proceeding , fellow citizens , to that qualifi...  1805  "
      ]
     },
     "execution_count": 9,
     "metadata": {},
     "output_type": "execute_result"
    }
   ],
   "source": [
    "df.head()"
   ]
  },
  {
   "cell_type": "code",
   "execution_count": 10,
   "metadata": {
    "collapsed": false
   },
   "outputs": [
    {
     "data": {
      "text/plain": [
       "<seaborn.axisgrid.FacetGrid at 0x11207b8d0>"
      ]
     },
     "execution_count": 10,
     "metadata": {},
     "output_type": "execute_result"
    },
    {
     "data": {
      "image/png": "[encoded data removed]",
      "text/plain": [
       "<matplotlib.figure.Figure at 0x1120fffd0>"
      ]
     },
     "metadata": {},
     "output_type": "display_data"
    }
   ],
   "source": [
    "sb.lmplot('year', 'FleschKincaidGradeLevel', data=df, fit_reg=False)"
   ]
  },
  {
   "cell_type": "code",
   "execution_count": null,
   "metadata": {
    "collapsed": true
   },
   "outputs": [],
   "source": []
  }
 ],
 "metadata": {
  "kernelspec": {
   "display_name": "Python 3",
   "language": "python",
   "name": "python3"
  },
  "language_info": {
   "codemirror_mode": {
    "name": "ipython",
    "version": 3
   },
   "file_extension": ".py",
   "mimetype": "text/x-python",
   "name": "python",
   "nbconvert_exporter": "python",
   "pygments_lexer": "ipython3",
   "version": "3.3.4"
  }
 },
 "nbformat": 4,
 "nbformat_minor": 0
}
