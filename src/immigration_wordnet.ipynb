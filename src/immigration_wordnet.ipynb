{
 "cells": [
  {
   "cell_type": "code",
   "execution_count": 1,
   "metadata": {
    "collapsed": true
   },
   "outputs": [],
   "source": [
    "from nltk.corpus import wordnet as wn"
   ]
  },
  {
   "cell_type": "code",
   "execution_count": 18,
   "metadata": {
    "collapsed": true
   },
   "outputs": [],
   "source": [
    "def explore_wn(word):\n",
    "    syns = wn.synsets(word)\n",
    "    print ('word', word)\n",
    "    print ('lemmas', [str(lemma.name()) for ss in syns for lemma in ss.lemmas()])\n",
    "    print ('hypernyms', [ss.hypernyms() for ss in syns])\n",
    "    print ('hyponyms', [ss.hyponyms() for ss in syns])\n",
    "    print ('member_holonyms', [ss.member_holonyms() for ss in syns])\n",
    "    print ('morphy_NOUN', wn.morphy(word, wn.NOUN))\n",
    "    print ('morphy_VERB', wn.morphy(word, wn.ADV))\n",
    "    print ('morphy_ADJECTIVE', wn.morphy(word, wn.ADJ))"
   ]
  },
  {
   "cell_type": "code",
   "execution_count": 19,
   "metadata": {
    "collapsed": false
   },
   "outputs": [
    {
     "name": "stdout",
     "output_type": "stream",
     "text": [
      "word immigration\n",
      "lemmas ['immigration', 'in-migration', 'immigration']\n",
      "hypernyms [[Synset('migration.n.01')], [Synset('body.n.02')]]\n",
      "hyponyms [[Synset('aliyah.n.02')], []]\n",
      "member_holonyms [[], []]\n",
      "morphy_NOUN immigration\n",
      "morphy_VERB None\n",
      "morphy_ADJECTIVE None\n"
     ]
    }
   ],
   "source": [
    "explore_wn('immigration')"
   ]
  },
  {
   "cell_type": "code",
   "execution_count": 20,
   "metadata": {
    "collapsed": false
   },
   "outputs": [
    {
     "name": "stdout",
     "output_type": "stream",
     "text": [
      "word immigrate\n",
      "lemmas ['immigrate', 'immigrate', 'immigrate']\n",
      "hypernyms [[Synset('migrate.v.01')], [Synset('bring_in.v.01')], [Synset('migrate.v.01')]]\n",
      "hyponyms [[], [], []]\n",
      "member_holonyms [[], [], []]\n",
      "morphy_NOUN None\n",
      "morphy_VERB None\n",
      "morphy_ADJECTIVE None\n"
     ]
    }
   ],
   "source": [
    "explore_wn('immigrate')"
   ]
  },
  {
   "cell_type": "code",
   "execution_count": 21,
   "metadata": {
    "collapsed": false
   },
   "outputs": [
    {
     "name": "stdout",
     "output_type": "stream",
     "text": [
      "word immigrant\n",
      "lemmas ['immigrant']\n",
      "hypernyms [[Synset('migrant.n.01')]]\n",
      "hyponyms [[]]\n",
      "member_holonyms [[]]\n",
      "morphy_NOUN immigrant\n",
      "morphy_VERB None\n",
      "morphy_ADJECTIVE None\n"
     ]
    }
   ],
   "source": [
    "explore_wn('immigrant')"
   ]
  },
  {
   "cell_type": "code",
   "execution_count": null,
   "metadata": {
    "collapsed": true
   },
   "outputs": [],
   "source": []
  }
 ],
 "metadata": {
  "kernelspec": {
   "display_name": "Python 3",
   "language": "python",
   "name": "python3"
  },
  "language_info": {
   "codemirror_mode": {
    "name": "ipython",
    "version": 3
   },
   "file_extension": ".py",
   "mimetype": "text/x-python",
   "name": "python",
   "nbconvert_exporter": "python",
   "pygments_lexer": "ipython3",
   "version": "3.3.4"
  }
 },
 "nbformat": 4,
 "nbformat_minor": 0
}
