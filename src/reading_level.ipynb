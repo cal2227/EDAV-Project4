{
 "cells": [
  {
   "cell_type": "code",
   "execution_count": 1,
   "metadata": {
    "collapsed": true
   },
   "outputs": [],
   "source": [
    "from matplotlib import pyplot as plt\n",
    "\n",
    "import readability\n",
    "import utils"
   ]
  },
  {
   "cell_type": "code",
   "execution_count": 2,
   "metadata": {
    "collapsed": false
   },
   "outputs": [
    {
     "name": "stderr",
     "output_type": "stream",
     "text": [
      "ERROR: Line magic function `%autoreload` not found.\n"
     ]
    }
   ],
   "source": [
    "%matplotlib inline\n",
    "%autoreload"
   ]
  },
  {
   "cell_type": "code",
   "execution_count": 3,
   "metadata": {
    "collapsed": false
   },
   "outputs": [],
   "source": [
    "suas = utils.get_suas()"
   ]
  },
  {
   "cell_type": "code",
   "execution_count": 4,
   "metadata": {
    "collapsed": true
   },
   "outputs": [],
   "source": [
    "years = utils.get_years(suas)"
   ]
  },
  {
   "cell_type": "code",
   "execution_count": 5,
   "metadata": {
    "collapsed": true
   },
   "outputs": [],
   "source": [
    "def test_readability(text):\n",
    "    text = suas[0][2]\n",
    "    rd = readability.Readability(text)\n",
    "    \n",
    "    print('Test text:')\n",
    "    # print('\"%s\"\\n' % text)\n",
    "    print('ARI: ', rd.ARI())\n",
    "    print('FleschReadingEase: ', rd.FleschReadingEase())\n",
    "    print('FleschKincaidGradeLevel: ', rd.FleschKincaidGradeLevel())\n",
    "    print('GunningFogIndex: ', rd.GunningFogIndex())\n",
    "    print('SMOGIndex: ', rd.SMOGIndex())\n",
    "    print('ColemanLiauIndex: ', rd.ColemanLiauIndex())\n",
    "    print('LIX: ', rd.LIX())\n",
    "    print('RIX: ', rd.RIX())"
   ]
  },
  {
   "cell_type": "code",
   "execution_count": 6,
   "metadata": {
    "collapsed": false
   },
   "outputs": [],
   "source": [
    "reading_levels = utils.get_reading_levels(suas)"
   ]
  },
  {
   "cell_type": "code",
   "execution_count": 7,
   "metadata": {
    "collapsed": false
   },
   "outputs": [],
   "source": [
    "# for key in utils.reading_level_keys:\n",
    "#     print (key)\n",
    "#     levels = [rl[key] for rl in reading_levels]\n",
    "#     plt.scatter(years, levels)\n",
    "#     plt.show()"
   ]
  },
  {
   "cell_type": "code",
   "execution_count": 8,
   "metadata": {
    "collapsed": false
   },
   "outputs": [],
   "source": [
    "# f, axarr = plt.subplots(8, figsize=(15,40))\n",
    "# for i, key in enumerate(utils.reading_level_keys):\n",
    "#     levels = [rl[key] for rl in reading_levels]\n",
    "#     axarr[i].set_title(key)\n",
    "#     axarr[i].scatter(years, levels)"
   ]
  },
  {
   "cell_type": "code",
   "execution_count": 11,
   "metadata": {
    "collapsed": false
   },
   "outputs": [],
   "source": [
    "utils.enrich_collection(suas, reading_levels)\n",
    "utils.save_as_json(utils.reading_levels_fname, suas)"
   ]
  },
  {
   "cell_type": "code",
   "execution_count": null,
   "metadata": {
    "collapsed": true
   },
   "outputs": [],
   "source": []
  }
 ],
 "metadata": {
  "kernelspec": {
   "display_name": "Python 3",
   "language": "python",
   "name": "python3"
  },
  "language_info": {
   "codemirror_mode": {
    "name": "ipython",
    "version": 3
   },
   "file_extension": ".py",
   "mimetype": "text/x-python",
   "name": "python",
   "nbconvert_exporter": "python",
   "pygments_lexer": "ipython3",
   "version": "3.3.4"
  }
 },
 "nbformat": 4,
 "nbformat_minor": 0
}
