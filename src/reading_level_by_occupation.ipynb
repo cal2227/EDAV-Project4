{
 "cells": [
  {
   "cell_type": "code",
   "execution_count": 1,
   "metadata": {
    "collapsed": true
   },
   "outputs": [],
   "source": [
    "import pandas as pd\n",
    "import seaborn as sb\n",
    "\n",
    "import utils"
   ]
  },
  {
   "cell_type": "code",
   "execution_count": 2,
   "metadata": {
    "collapsed": true
   },
   "outputs": [],
   "source": [
    "%matplotlib inline"
   ]
  },
  {
   "cell_type": "code",
   "execution_count": 3,
   "metadata": {
    "collapsed": false
   },
   "outputs": [
    {
     "ename": "AttributeError",
     "evalue": "'module' object has no attribute 'enriched_suas_fname'",
     "output_type": "error",
     "traceback": [
      "\u001b[0;31m---------------------------------------------------------------------------\u001b[0m",
      "\u001b[0;31mAttributeError\u001b[0m                            Traceback (most recent call last)",
      "\u001b[0;32m<ipython-input-3-7de6743dcf65>\u001b[0m in \u001b[0;36m<module>\u001b[0;34m()\u001b[0m\n\u001b[0;32m----> 1\u001b[0;31m \u001b[0mdf\u001b[0m \u001b[0;34m=\u001b[0m \u001b[0mpd\u001b[0m\u001b[0;34m.\u001b[0m\u001b[0mread_json\u001b[0m\u001b[0;34m(\u001b[0m\u001b[0mutils\u001b[0m\u001b[0;34m.\u001b[0m\u001b[0menriched_suas_fname\u001b[0m\u001b[0;34m)\u001b[0m\u001b[0;34m\u001b[0m\u001b[0m\n\u001b[0m",
      "\u001b[0;31mAttributeError\u001b[0m: 'module' object has no attribute 'enriched_suas_fname'"
     ]
    }
   ],
   "source": [
    "df = pd.read_json(utils.enriched_suas_fname)"
   ]
  },
  {
   "cell_type": "code",
   "execution_count": 4,
   "metadata": {
    "collapsed": false
   },
   "outputs": [
    {
     "name": "stdout",
     "output_type": "stream",
     "text": [
      "Help on module utils:\n",
      "\n",
      "NAME\n",
      "    utils\n",
      "\n",
      "FUNCTIONS\n",
      "    all_reading_levels(text)\n",
      "    \n",
      "    enrich_suas(suas, auxiliary)\n",
      "    \n",
      "    get_presidents(suas)\n",
      "    \n",
      "    get_reading_levels(suas)\n",
      "    \n",
      "    get_suas()\n",
      "    \n",
      "    get_years(suas)\n",
      "    \n",
      "    load_json_as_dict(fname)\n",
      "    \n",
      "    save_as_json(fname, data)\n",
      "    \n",
      "    split_by_sua(fname)\n",
      "\n",
      "DATA\n",
      "    enriched_suas = '../data/enriched_suas.json'\n",
      "    reading_level_keys = ['GunningFogIndex', 'ColemanLiauIndex', 'LIX', 'S...\n",
      "    reading_levels_fname = '../data/suas_with_reading_levels.json'\n",
      "    sua_delim = '***'\n",
      "    suas_fname = '../data/State_of_the_Union_Addresses_1790-2016.txt'\n",
      "    with_presidents_fname = '../data/suas_with_presidents.json'\n",
      "\n",
      "FILE\n",
      "    /Users/craig/Documents/School/Columbia/STATW4701/Assignments/Project4-SUA/src/utils.py\n",
      "\n",
      "\n"
     ]
    }
   ],
   "source": [
    "df.head()"
   ]
  },
  {
   "cell_type": "code",
   "execution_count": null,
   "metadata": {
    "collapsed": true
   },
   "outputs": [],
   "source": [
    "#sb.lmplot('year', 'FleschKincaidGradeLevel', data=df, hue='political_party', fit_reg=False)"
   ]
  }
 ],
 "metadata": {
  "kernelspec": {
   "display_name": "Python 3",
   "language": "python",
   "name": "python3"
  },
  "language_info": {
   "codemirror_mode": {
    "name": "ipython",
    "version": 3
   },
   "file_extension": ".py",
   "mimetype": "text/x-python",
   "name": "python",
   "nbconvert_exporter": "python",
   "pygments_lexer": "ipython3",
   "version": "3.3.4"
  }
 },
 "nbformat": 4,
 "nbformat_minor": 0
}
