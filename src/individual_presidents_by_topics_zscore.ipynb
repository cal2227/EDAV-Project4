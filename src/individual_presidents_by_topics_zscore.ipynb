{
 "cells": [
  {
   "cell_type": "code",
   "execution_count": 13,
   "metadata": {
    "collapsed": true
   },
   "outputs": [],
   "source": [
    "from matplotlib import pyplot as plt\n",
    "import pandas as pd\n",
    "import seaborn as sb\n",
    "import numpy as np\n",
    "import nltk\n",
    "import utils"
   ]
  },
  {
   "cell_type": "code",
   "execution_count": 2,
   "metadata": {
    "collapsed": true
   },
   "outputs": [],
   "source": [
    "%matplotlib inline"
   ]
  },
  {
   "cell_type": "code",
   "execution_count": 3,
   "metadata": {
    "collapsed": true
   },
   "outputs": [],
   "source": [
    "stemmed_keywords = utils.get_stemmed_keywords()"
   ]
  },
  {
   "cell_type": "code",
   "execution_count": null,
   "metadata": {
    "collapsed": true
   },
   "outputs": [],
   "source": []
  },
  {
   "cell_type": "code",
   "execution_count": 25,
   "metadata": {
    "collapsed": true
   },
   "outputs": [],
   "source": [
    "df = pd.read_json(utils.suas_with_topic_frequencies)\n",
    "df['year_of_presidency'] = df['year'] - df['year_first_inaugurated']"
   ]
  },
  {
   "cell_type": "code",
   "execution_count": 27,
   "metadata": {
    "collapsed": true
   },
   "outputs": [],
   "source": [
    "# drop jimmy carter written sua\n",
    "df = df[df['year'] != 1981]"
   ]
  },
  {
   "cell_type": "code",
   "execution_count": 28,
   "metadata": {
    "collapsed": true
   },
   "outputs": [],
   "source": [
    "for topic in stemmed_keywords.keys():\n",
    "    df[topic] = (df[topic] - df[topic].mean()) / df[topic].std()"
   ]
  },
  {
   "cell_type": "code",
   "execution_count": 41,
   "metadata": {
    "collapsed": false
   },
   "outputs": [],
   "source": [
    "mean_df = df.groupby(by=['president']).agg({topic: 'mean' for topic in stemmed_keywords.keys()}).reset_index()"
   ]
  },
  {
   "cell_type": "code",
   "execution_count": 48,
   "metadata": {
    "collapsed": false
   },
   "outputs": [
    {
     "data": {
      "text/html": [
       "<div>\n",
       "<table border=\"1\" class=\"dataframe\">\n",
       "  <thead>\n",
       "    <tr style=\"text-align: right;\">\n",
       "      <th></th>\n",
       "      <th>president</th>\n",
       "      <th>government</th>\n",
       "      <th>environment</th>\n",
       "      <th>economy</th>\n",
       "      <th>international</th>\n",
       "      <th>education</th>\n",
       "      <th>infrastructure</th>\n",
       "      <th>defense</th>\n",
       "      <th>social</th>\n",
       "      <th>energy</th>\n",
       "      <th>healthcare</th>\n",
       "    </tr>\n",
       "  </thead>\n",
       "  <tbody>\n",
       "    <tr>\n",
       "      <th>0</th>\n",
       "      <td>Barack Obama</td>\n",
       "      <td>0.636226</td>\n",
       "      <td>0.000000</td>\n",
       "      <td>0.884075</td>\n",
       "      <td>0.368556</td>\n",
       "      <td>1.017872</td>\n",
       "      <td>1.355046</td>\n",
       "      <td>0.571143</td>\n",
       "      <td>0.393595</td>\n",
       "      <td>1.260400</td>\n",
       "      <td>0.504018</td>\n",
       "    </tr>\n",
       "    <tr>\n",
       "      <th>1</th>\n",
       "      <td>George H.W. Bush</td>\n",
       "      <td>-0.365566</td>\n",
       "      <td>-0.089671</td>\n",
       "      <td>-0.698528</td>\n",
       "      <td>-0.446378</td>\n",
       "      <td>-0.148792</td>\n",
       "      <td>-0.186642</td>\n",
       "      <td>-0.473631</td>\n",
       "      <td>-0.444055</td>\n",
       "      <td>-0.687716</td>\n",
       "      <td>-0.562625</td>\n",
       "    </tr>\n",
       "    <tr>\n",
       "      <th>2</th>\n",
       "      <td>George W. Bush</td>\n",
       "      <td>-0.154663</td>\n",
       "      <td>-0.149452</td>\n",
       "      <td>-0.687334</td>\n",
       "      <td>-0.289754</td>\n",
       "      <td>-0.148792</td>\n",
       "      <td>-0.615414</td>\n",
       "      <td>0.282586</td>\n",
       "      <td>0.040369</td>\n",
       "      <td>0.153376</td>\n",
       "      <td>0.437597</td>\n",
       "    </tr>\n",
       "    <tr>\n",
       "      <th>3</th>\n",
       "      <td>Gerald R. Ford</td>\n",
       "      <td>-0.112482</td>\n",
       "      <td>-0.269014</td>\n",
       "      <td>0.107466</td>\n",
       "      <td>0.493366</td>\n",
       "      <td>-1.433814</td>\n",
       "      <td>-0.489305</td>\n",
       "      <td>0.003980</td>\n",
       "      <td>-0.726636</td>\n",
       "      <td>0.277065</td>\n",
       "      <td>-0.656396</td>\n",
       "    </tr>\n",
       "    <tr>\n",
       "      <th>4</th>\n",
       "      <td>Jimmy Carter</td>\n",
       "      <td>-1.377904</td>\n",
       "      <td>-0.538028</td>\n",
       "      <td>-0.463447</td>\n",
       "      <td>-0.152708</td>\n",
       "      <td>-1.366181</td>\n",
       "      <td>-0.791967</td>\n",
       "      <td>0.063681</td>\n",
       "      <td>-0.847742</td>\n",
       "      <td>-0.316646</td>\n",
       "      <td>-1.219021</td>\n",
       "    </tr>\n",
       "    <tr>\n",
       "      <th>5</th>\n",
       "      <td>Richard Nixon</td>\n",
       "      <td>-0.837991</td>\n",
       "      <td>-0.053803</td>\n",
       "      <td>-0.725395</td>\n",
       "      <td>-1.362629</td>\n",
       "      <td>-1.000964</td>\n",
       "      <td>-0.625503</td>\n",
       "      <td>-1.631837</td>\n",
       "      <td>-1.259503</td>\n",
       "      <td>-0.910358</td>\n",
       "      <td>-0.712658</td>\n",
       "    </tr>\n",
       "    <tr>\n",
       "      <th>6</th>\n",
       "      <td>Ronald Reagan</td>\n",
       "      <td>0.044189</td>\n",
       "      <td>-0.730180</td>\n",
       "      <td>0.040300</td>\n",
       "      <td>0.132571</td>\n",
       "      <td>0.025121</td>\n",
       "      <td>-0.165023</td>\n",
       "      <td>-0.388343</td>\n",
       "      <td>-0.224911</td>\n",
       "      <td>-0.878552</td>\n",
       "      <td>-0.616208</td>\n",
       "    </tr>\n",
       "    <tr>\n",
       "      <th>7</th>\n",
       "      <td>William J. Clinton</td>\n",
       "      <td>0.821520</td>\n",
       "      <td>1.345069</td>\n",
       "      <td>0.803115</td>\n",
       "      <td>0.837379</td>\n",
       "      <td>0.981641</td>\n",
       "      <td>0.483540</td>\n",
       "      <td>0.711868</td>\n",
       "      <td>1.487874</td>\n",
       "      <td>0.202851</td>\n",
       "      <td>1.031479</td>\n",
       "    </tr>\n",
       "  </tbody>\n",
       "</table>\n",
       "</div>"
      ],
      "text/plain": [
       "            president  government  environment   economy  international  \\\n",
       "0        Barack Obama    0.636226     0.000000  0.884075       0.368556   \n",
       "1    George H.W. Bush   -0.365566    -0.089671 -0.698528      -0.446378   \n",
       "2      George W. Bush   -0.154663    -0.149452 -0.687334      -0.289754   \n",
       "3      Gerald R. Ford   -0.112482    -0.269014  0.107466       0.493366   \n",
       "4        Jimmy Carter   -1.377904    -0.538028 -0.463447      -0.152708   \n",
       "5       Richard Nixon   -0.837991    -0.053803 -0.725395      -1.362629   \n",
       "6       Ronald Reagan    0.044189    -0.730180  0.040300       0.132571   \n",
       "7  William J. Clinton    0.821520     1.345069  0.803115       0.837379   \n",
       "\n",
       "   education  infrastructure   defense    social    energy  healthcare  \n",
       "0   1.017872        1.355046  0.571143  0.393595  1.260400    0.504018  \n",
       "1  -0.148792       -0.186642 -0.473631 -0.444055 -0.687716   -0.562625  \n",
       "2  -0.148792       -0.615414  0.282586  0.040369  0.153376    0.437597  \n",
       "3  -1.433814       -0.489305  0.003980 -0.726636  0.277065   -0.656396  \n",
       "4  -1.366181       -0.791967  0.063681 -0.847742 -0.316646   -1.219021  \n",
       "5  -1.000964       -0.625503 -1.631837 -1.259503 -0.910358   -0.712658  \n",
       "6   0.025121       -0.165023 -0.388343 -0.224911 -0.878552   -0.616208  \n",
       "7   0.981641        0.483540  0.711868  1.487874  0.202851    1.031479  "
      ]
     },
     "execution_count": 48,
     "metadata": {},
     "output_type": "execute_result"
    }
   ],
   "source": [
    "mean_df"
   ]
  },
  {
   "cell_type": "code",
   "execution_count": 38,
   "metadata": {
    "collapsed": true
   },
   "outputs": [],
   "source": [
    "presidents_ordered = ['Richard Nixon', 'Gerald R. Ford', 'Jimmy Carter', 'Ronald Reagan', 'George H.W. Bush',\n",
    "                      'William J. Clinton', 'George W. Bush', 'Barack Obama']"
   ]
  },
  {
   "cell_type": "code",
   "execution_count": 60,
   "metadata": {
    "collapsed": false
   },
   "outputs": [
    {
     "data": {
      "image/png": "[encoded data removed]",
      "text/plain": [
       "<matplotlib.figure.Figure at 0x10c52b290>"
      ]
     },
     "metadata": {},
     "output_type": "display_data"
    }
   ],
   "source": [
    "fig, ax = plt.subplots()\n",
    "for i, president in enumerate(presidents_ordered):\n",
    "    for j, topic in enumerate(stemmed_keywords.keys()):\n",
    "        ax.scatter(i, j, s=mean_df[mean_df['president'] == president][topic]*200)"
   ]
  },
  {
   "cell_type": "code",
   "execution_count": null,
   "metadata": {
    "collapsed": true
   },
   "outputs": [],
   "source": []
  }
 ],
 "metadata": {
  "kernelspec": {
   "display_name": "Python 3",
   "language": "python",
   "name": "python3"
  },
  "language_info": {
   "codemirror_mode": {
    "name": "ipython",
    "version": 3
   },
   "file_extension": ".py",
   "mimetype": "text/x-python",
   "name": "python",
   "nbconvert_exporter": "python",
   "pygments_lexer": "ipython3",
   "version": "3.3.4"
  }
 },
 "nbformat": 4,
 "nbformat_minor": 0
}
